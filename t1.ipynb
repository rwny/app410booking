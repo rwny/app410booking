{
 "cells": [
  {
   "cell_type": "code",
   "execution_count": 1,
   "metadata": {},
   "outputs": [
    {
     "name": "stdout",
     "output_type": "stream",
     "text": [
      "hello\n"
     ]
    }
   ],
   "source": [
    "print('hello')"
   ]
  },
  {
   "cell_type": "code",
   "execution_count": null,
   "metadata": {},
   "outputs": [],
   "source": []
  },
  {
   "cell_type": "code",
   "execution_count": 3,
   "metadata": {},
   "outputs": [
    {
     "name": "stdout",
     "output_type": "stream",
     "text": [
      "Booking data created and saved to booking_data.json\n"
     ]
    }
   ],
   "source": [
    "import json\n",
    "import random\n",
    "from datetime import datetime, timedelta\n",
    "\n",
    "# Define room ids and time slots\n",
    "rooms = ['101', '102', '103', '104', '105', '106']\n",
    "days = 7\n",
    "\n",
    "# Build 24 hourly slots, e.g., \"00:00 - 01:00\"\n",
    "time_slots = [f\"{hour:02d}:00 - {(hour + 1) % 24:02d}:00\" for hour in range(24)]\n",
    "\n",
    "booking_data = []\n",
    "start_date = datetime.today().date()\n",
    "\n",
    "# Generate booking record for each room, date, and time slot\n",
    "for day_offset in range(days):\n",
    "    current_date = start_date + timedelta(days=day_offset)\n",
    "    for room in rooms:\n",
    "        for ts in time_slots:\n",
    "            record = {\n",
    "                \"roomId\": room,\n",
    "                \"userId\": \"\",  # user not assigned for now\n",
    "                \"date\": current_date.strftime(\"%Y-%m-%d\"),\n",
    "                \"timeSlot\": ts,\n",
    "                \"status\": random.choice([\"available\", \"booked\"])  # random status\n",
    "            }\n",
    "            booking_data.append(record)\n",
    "\n",
    "# Save the generated data to a JSON file\n",
    "with open(\"booking_data.json\", \"w\") as outfile:\n",
    "    json.dump(booking_data, outfile, indent=2)\n",
    "\n",
    "print(\"Booking data created and saved to booking_data.json\")"
   ]
  }
 ],
 "metadata": {
  "kernelspec": {
   "display_name": "base",
   "language": "python",
   "name": "python3"
  },
  "language_info": {
   "codemirror_mode": {
    "name": "ipython",
    "version": 3
   },
   "file_extension": ".py",
   "mimetype": "text/x-python",
   "name": "python",
   "nbconvert_exporter": "python",
   "pygments_lexer": "ipython3",
   "version": "3.12.7"
  }
 },
 "nbformat": 4,
 "nbformat_minor": 2
}
